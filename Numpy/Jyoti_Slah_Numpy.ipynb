{
 "cells": [
  {
   "cell_type": "code",
   "execution_count": 26,
   "metadata": {},
   "outputs": [
    {
     "name": "stdout",
     "output_type": "stream",
     "text": [
      "[809 731 588  18 200  70  45]\n"
     ]
    },
    {
     "data": {
      "text/plain": [
       "dtype('int32')"
      ]
     },
     "execution_count": 26,
     "metadata": {},
     "output_type": "execute_result"
    }
   ],
   "source": [
    "import numpy as np\n",
    "# 1 dimensional array\n",
    "data_1 = [809, 731, 588, 18, 200, 70, 45]\n",
    "arr_1 = np.array(data_1)\n",
    "print(arr_1)\n",
    "arr_1.dtype"
   ]
  },
  {
   "cell_type": "code",
   "execution_count": 27,
   "metadata": {},
   "outputs": [
    {
     "name": "stdout",
     "output_type": "stream",
     "text": [
      "[[1 2 3 4]\n",
      " [5 6 7 8]]\n"
     ]
    },
    {
     "data": {
      "text/plain": [
       "[[1, 2, 3, 4], [5, 6, 7, 8]]"
      ]
     },
     "execution_count": 27,
     "metadata": {},
     "output_type": "execute_result"
    }
   ],
   "source": [
    "#list of lists\n",
    "data_2 = [range(1, 5), range(5, 9)]\n",
    "arr_2 = np.array(data_2) # 2 dimensional array\n",
    "print(arr_2)\n",
    "arr_2.dtype\n",
    "\n",
    "# to convert array back to list  \n",
    "arr_2.tolist()"
   ]
  },
  {
   "cell_type": "code",
   "execution_count": 7,
   "metadata": {},
   "outputs": [
    {
     "data": {
      "text/plain": [
       "array([0., 0., 0., 0., 0., 0., 0., 0., 0., 0.])"
      ]
     },
     "execution_count": 7,
     "metadata": {},
     "output_type": "execute_result"
    }
   ],
   "source": [
    "np.zeros(10)\n",
    "# Returns a new array of given shape and type, filled with zeros.\n"
   ]
  },
  {
   "cell_type": "code",
   "execution_count": 166,
   "metadata": {},
   "outputs": [
    {
     "name": "stdout",
     "output_type": "stream",
     "text": [
      "[[0. 0. 0. 0. 0. 0.]\n",
      " [0. 0. 0. 0. 0. 0.]\n",
      " [0. 0. 0. 0. 0. 0.]]\n",
      "2\n",
      "(3, 6)\n",
      "18\n"
     ]
    },
    {
     "data": {
      "text/plain": [
       "3"
      ]
     },
     "execution_count": 166,
     "metadata": {},
     "output_type": "execute_result"
    }
   ],
   "source": [
    "arr_3 = np.zeros((3,6))\n",
    "print(arr_3)\n",
    "print(arr_3.ndim)\n",
    "print(arr_3.shape)\n",
    "print(arr_3.size)  # total number of elements\n",
    "len(arr_3)"
   ]
  },
  {
   "cell_type": "code",
   "execution_count": 13,
   "metadata": {},
   "outputs": [
    {
     "data": {
      "text/plain": [
       "array([1., 1., 1., 1., 1., 1., 1., 1., 1., 1.])"
      ]
     },
     "execution_count": 13,
     "metadata": {},
     "output_type": "execute_result"
    }
   ],
   "source": [
    "np.ones(10)\n",
    "# # Returns a new array of given shape and type, setting values to 1."
   ]
  },
  {
   "cell_type": "code",
   "execution_count": 15,
   "metadata": {},
   "outputs": [
    {
     "data": {
      "text/plain": [
       "array([0.  , 0.25, 0.5 , 0.75, 1.  ])"
      ]
     },
     "execution_count": 15,
     "metadata": {},
     "output_type": "execute_result"
    }
   ],
   "source": [
    "np.linspace(0,1,5)\n",
    "\n",
    "## numpy.linspace(start, stop, num=50, endpoint=True, retstep=False, dtype=None, axis=0)\n",
    "# Return evenly spaced numbers over a specified interval.\n",
    "#Returns num evenly spaced samples, calculated over the interval [start, stop].\n",
    "# The endpoint of the interval can optionally be excluded."
   ]
  },
  {
   "cell_type": "code",
   "execution_count": 17,
   "metadata": {},
   "outputs": [
    {
     "data": {
      "text/plain": [
       "array([   1.,   10.,  100., 1000.])"
      ]
     },
     "execution_count": 17,
     "metadata": {},
     "output_type": "execute_result"
    }
   ],
   "source": [
    "# Return numbers spaced evenly on a log scale.\n",
    "np.logspace(0,3,4)\n",
    "# 10**0 to 10**3 with 4 number of samples"
   ]
  },
  {
   "cell_type": "code",
   "execution_count": 165,
   "metadata": {},
   "outputs": [
    {
     "name": "stdout",
     "output_type": "stream",
     "text": [
      "[0. 1. 2. 3. 4.]\n",
      "float64\n",
      "1\n",
      "(5,)\n",
      "5\n"
     ]
    }
   ],
   "source": [
    "array3 = np.arange(5)\n",
    "#print(array3)\n",
    "array4 = array3.astype(float) # to change the type of the array\n",
    "print(array4)\n",
    "print(array4.dtype) # float64\n",
    "print(array4.ndim)\n",
    "print(array4.shape)\n",
    "array4.size\n",
    "print(len(array4))"
   ]
  },
  {
   "cell_type": "markdown",
   "metadata": {},
   "source": [
    "4.3- Reshaping"
   ]
  },
  {
   "cell_type": "code",
   "execution_count": 77,
   "metadata": {},
   "outputs": [
    {
     "name": "stdout",
     "output_type": "stream",
     "text": [
      "[[ 0.  1.  2.  3.  4.  5.  6.  7.  8.  9.]\n",
      " [10. 11. 12. 13. 14. 15. 16. 17. 18. 19.]]\n"
     ]
    },
    {
     "data": {
      "text/plain": [
       "array([[ 0.,  1.,  2.,  3.],\n",
       "       [ 4.,  5.,  6.,  7.],\n",
       "       [ 8.,  9., 10., 11.],\n",
       "       [12., 13., 14., 15.],\n",
       "       [16., 17., 18., 19.]])"
      ]
     },
     "execution_count": 77,
     "metadata": {},
     "output_type": "execute_result"
    }
   ],
   "source": [
    "arr_5 = np.arange(20, dtype=float).reshape(2,10)\n",
    "print(arr_5)\n",
    "arr_5.reshape(5,4)\n"
   ]
  },
  {
   "cell_type": "markdown",
   "metadata": {},
   "source": [
    "Add an axis"
   ]
  },
  {
   "cell_type": "code",
   "execution_count": 70,
   "metadata": {},
   "outputs": [
    {
     "name": "stdout",
     "output_type": "stream",
     "text": [
      "[0 1 2 3]\n",
      "[[0]\n",
      " [1]\n",
      " [2]\n",
      " [3]]\n",
      "[[0 1 2 3]]\n"
     ]
    }
   ],
   "source": [
    "x = np.array([0,1,2,3])\n",
    "print(x)\n",
    "#x_col = x[:, np.newaxis]\n",
    "x_col = x[:, None]\n",
    "print(x_col)\n",
    "print(x_col.T) # for one dimensional array it has no affect"
   ]
  },
  {
   "cell_type": "markdown",
   "metadata": {},
   "source": []
  },
  {
   "cell_type": "code",
   "execution_count": 89,
   "metadata": {},
   "outputs": [
    {
     "name": "stdout",
     "output_type": "stream",
     "text": [
      "2\n",
      "[[ 5  8  9]\n",
      " [ 6  5 14]\n",
      " [23 12  7]]\n",
      "[ 5  8  9  6  5 14 23 12  7]\n",
      "[33  8  9  6  5 14 23 12  7]\n"
     ]
    }
   ],
   "source": [
    "ls_1 = [[5,8,9],[6,5,14],[23,12,7]]\n",
    "ar_1 = np.array(ls_1)\n",
    "print(ar_1.ndim)\n",
    "print(ar_1)\n",
    "#print(ar_1.T)\n",
    "ar_flat = ar_1.flatten() # will return a flat array\n",
    "print(ar_flat)\n",
    "ar_flat[0] = 33 # to change the value at index\n",
    "print(ar_flat)"
   ]
  },
  {
   "cell_type": "code",
   "execution_count": 95,
   "metadata": {},
   "outputs": [
    {
     "name": "stdout",
     "output_type": "stream",
     "text": [
      "[[2 4]\n",
      " [3 5]]\n"
     ]
    }
   ],
   "source": [
    "##Stack arrays\n",
    "\n",
    "arr = np.array([2,3])\n",
    "arr_1 = np.array([4,5])\n",
    "\n",
    "#arr_2 = np.stack((arr, arr_1))\n",
    "\n",
    "arr_2 = np.stack((arr, arr_1)).T\n",
    "print(arr_2)"
   ]
  },
  {
   "cell_type": "code",
   "execution_count": 167,
   "metadata": {},
   "outputs": [
    {
     "name": "stdout",
     "output_type": "stream",
     "text": [
      "[[ 0.  1.  2.  3.]\n",
      " [ 4.  5.  6.  7.]\n",
      " [ 8.  9. 10. 11.]\n",
      " [12. 13. 14. 15.]]\n",
      "[3. 2. 1. 0.]\n"
     ]
    },
    {
     "data": {
      "text/plain": [
       "array([[ 0.,  1.,  2.,  3.],\n",
       "       [ 4.,  5.,  6.,  7.],\n",
       "       [ 8.,  9., 10., 11.],\n",
       "       [12., 13., 14., 15.]])"
      ]
     },
     "execution_count": 167,
     "metadata": {},
     "output_type": "execute_result"
    }
   ],
   "source": [
    "# selection\n",
    "\n",
    "array = np.arange(16, dtype= float).reshape(4,4)\n",
    "print(array)\n",
    "print(array[0,::-1])\n",
    "\n",
    "array[0, 2]  # slices like a list\n",
    "\n",
    "array[:, 2] # returns 1 dimensional array of column 2\n",
    "array[1,:] # returns 1d array of row 1\n",
    "array[:, 1:] # prints out all rows starting from column 1\n",
    "array[:, 1:3]\n",
    "array[:, [0,1,2,3]]"
   ]
  },
  {
   "cell_type": "code",
   "execution_count": 113,
   "metadata": {},
   "outputs": [
    {
     "name": "stdout",
     "output_type": "stream",
     "text": [
      "[[ 0.  1.  2.  3.]\n",
      " [ 4.  5.  6.  7.]\n",
      " [ 8.  9. 10. 11.]\n",
      " [12. 13. 14. 15.]]\n",
      "[ 6.  7.  8.  9. 10. 11. 12. 13. 14. 15.]\n"
     ]
    }
   ],
   "source": [
    "array = np.arange(16, dtype= float).reshape(4,4)\n",
    "print(array)\n",
    "array2 = array[array>5]\n",
    "print(array2)"
   ]
  },
  {
   "cell_type": "code",
   "execution_count": 164,
   "metadata": {},
   "outputs": [
    {
     "name": "stdout",
     "output_type": "stream",
     "text": [
      "[0 1 2 3 4 5 6 7]\n",
      "[ 0  2  4  6  8 10 12 14]\n",
      "[ 0 10 20 30 40 50 60 70]\n",
      "None\n",
      "[0.         1.         1.41421356 1.73205081 2.         2.23606798\n",
      " 2.44948974 2.64575131]\n",
      "[ 1  1  2  4  4  6  6 16]\n"
     ]
    }
   ],
   "source": [
    "# Vectorized operation\n",
    "\n",
    "nums = np.arange(8)\n",
    "print(nums)\n",
    "nums2 = np.array([1,-2,-3,4,-5,6,-7,16])\n",
    "print(nums + np.arange(8)) # adds array elemnt wise\n",
    "print(print(nums*10)) \n",
    "print(np.sqrt(nums))\n",
    "#np.ceil(nums) # rounds the nearest integer\n",
    "\n",
    "# np.maximum(nums, np.array([1,-2,-3,4,-5,6,-7,17]))\n",
    "print(np.maximum(nums, nums2))"
   ]
  },
  {
   "cell_type": "code",
   "execution_count": 130,
   "metadata": {},
   "outputs": [
    {
     "name": "stdout",
     "output_type": "stream",
     "text": [
      "6.478524985105116\n"
     ]
    }
   ],
   "source": [
    "# compute euclidean distance between two vectors\n",
    "\n",
    "# euclidean distance : The distance between two vectors is defined as the square root of the sum of the squares of the \n",
    "# differences between the corresponding coordinates of the vector\n",
    "\n",
    "vec1 = np.random.randn(10)\n",
    "vec2= np.random.randn(10)\n",
    "\n",
    "distance = np.sqrt(np.sum((vec1 - vec2) ** 2))\n",
    "print(distance)"
   ]
  },
  {
   "cell_type": "code",
   "execution_count": 163,
   "metadata": {},
   "outputs": [
    {
     "name": "stdout",
     "output_type": "stream",
     "text": [
      "[[-0.53481712  0.18558172  0.38014325  1.18388892]\n",
      " [-1.47121459 -1.11701449 -2.13818035 -1.07230259]\n",
      " [ 0.82449002  0.55090109 -1.32740791  0.34634166]\n",
      " [-0.04898868 -0.7457014   0.55881044  0.80033756]\n",
      " [-1.44891463 -0.1349495  -0.21602693  0.60164279]\n",
      " [-0.04178484 -0.23766393  1.25964033  1.15320544]\n",
      " [-0.04862288 -0.34317779  0.35593984 -0.66206705]\n",
      " [-0.16498907  0.09214453  0.05056265 -0.05840095]]\n",
      "0.8144939726520622\n",
      "6\n",
      "22\n",
      "[-2.93484178 -1.74987976 -1.07651868  2.29264579]\n",
      "[ 1.21479678 -5.79871202  0.39432485  0.56445793 -1.19824826  2.133397\n",
      " -0.69792788 -0.08068283]\n",
      "14\n",
      "True\n",
      "False\n",
      "None\n"
     ]
    }
   ],
   "source": [
    "rnd = np.random.randn(8, 4)\n",
    "print(rnd)\n",
    "\n",
    "print(rnd.std()) # measures the spread of the array\n",
    "print(rnd.argmin()) # gives the index of minimum element of array\n",
    "print(rnd.argmax()) # gives index of maximum value\n",
    "print(rnd.sum(axis=0)) # will give a array containg sum of all the columns\n",
    "print(rnd.sum(axis=1)) # gives the sum of rows\n",
    "print((rnd > 0).sum()) # returns number of positive values\n",
    "print((rnd> 0).any()) # check if any value is true\n",
    "print((rnd> 0).all()) # check if all the values are true\n",
    "print(np.random.seed(12234)) # will set the seed\n"
   ]
  },
  {
   "cell_type": "code",
   "execution_count": 144,
   "metadata": {},
   "outputs": [],
   "source": [
    "np.random.seed(12234) "
   ]
  },
  {
   "cell_type": "code",
   "execution_count": 150,
   "metadata": {},
   "outputs": [
    {
     "name": "stdout",
     "output_type": "stream",
     "text": [
      "[[ 5  6  7]\n",
      " [15 16 17]\n",
      " [25 26 27]\n",
      " [35 36 37]]\n"
     ]
    }
   ],
   "source": [
    "array= np.array([[ 0, 0, 0],\n",
    "                 [10,10,10],\n",
    "                 [20,20,20],\n",
    "                 [30,30,30]])\n",
    "\n",
    "array2 = np.array([5,6,7])\n",
    "\n",
    "print(array + array2)\n",
    "            "
   ]
  },
  {
   "cell_type": "code",
   "execution_count": 151,
   "metadata": {},
   "outputs": [
    {
     "name": "stdout",
     "output_type": "stream",
     "text": [
      "[[ 5  6  7]\n",
      " [15 16 17]\n",
      " [25 26 27]\n",
      " [35 36 37]]\n"
     ]
    }
   ],
   "source": [
    "array= np.array([[ 0],\n",
    "                 [10],\n",
    "                 [20],\n",
    "                 [30]])\n",
    "\n",
    "array2 = np.array([5,6,7])\n",
    "\n",
    "print(array + array2)"
   ]
  },
  {
   "cell_type": "markdown",
   "metadata": {},
   "source": [
    "4.8 : Exercise"
   ]
  },
  {
   "cell_type": "code",
   "execution_count": 162,
   "metadata": {},
   "outputs": [
    {
     "name": "stdout",
     "output_type": "stream",
     "text": [
      "[[-1.13523365 -1.13225996]\n",
      " [-0.72489198 -0.22903211]\n",
      " [ 0.89721425  0.70105278]\n",
      " [-0.1578779  -0.49929006]]\n",
      "0\n",
      "0\n"
     ]
    }
   ],
   "source": [
    "array8 = np.random.randn(4,2)\n",
    "print(array8)\n",
    "\n",
    "# for each column find the row index of the minimum value\n",
    "\n",
    "print(array8[:,0].argmin())  # prints out the row index of the minimum value in column 1\n",
    "print(array8[:,1].argmin())"
   ]
  },
  {
   "cell_type": "code",
   "execution_count": 1,
   "metadata": {
    "ExecuteTime": {
     "end_time": "2019-06-25T13:57:40.060263Z",
     "start_time": "2019-06-25T13:57:40.048267Z"
    }
   },
   "outputs": [
    {
     "name": "stdout",
     "output_type": "stream",
     "text": [
      "[[-0.72685774  2.41718139]\n",
      " [-0.97392167 -1.06723647]\n",
      " [-0.33623828 -1.28766284]\n",
      " [ 0.80515691  1.87025781]]\n",
      "[[-0.27509103  2.12850484]\n",
      " [-0.52215496 -1.35591302]\n",
      " [ 0.11552844 -1.57633938]\n",
      " [ 1.25692362  1.58158127]]\n"
     ]
    }
   ],
   "source": [
    "array8 = np.random.randn(4,2)\n",
    "\n",
    "print(array8)\n",
    "\n",
    "def standarize(x):\n",
    "  \n",
    "  x_std = x - np.mean(x, axis=0)/np.std(x, axis = 0)  # subtract the mean of the column and divide by \n",
    "                                                       # standard division\n",
    "  return x_std\n",
    "\n",
    "print(standarize(array8))\n",
    "\n"
   ]
  },
  {
   "cell_type": "code",
   "execution_count": null,
   "metadata": {},
   "outputs": [],
   "source": []
  }
 ],
 "metadata": {
  "kernelspec": {
   "display_name": "Python 3",
   "language": "python",
   "name": "python3"
  },
  "language_info": {
   "codemirror_mode": {
    "name": "ipython",
    "version": 3
   },
   "file_extension": ".py",
   "mimetype": "text/x-python",
   "name": "python",
   "nbconvert_exporter": "python",
   "pygments_lexer": "ipython3",
   "version": "3.7.3"
  },
  "toc": {
   "base_numbering": 1,
   "nav_menu": {},
   "number_sections": true,
   "sideBar": true,
   "skip_h1_title": false,
   "title_cell": "Table of Contents",
   "title_sidebar": "Contents",
   "toc_cell": false,
   "toc_position": {},
   "toc_section_display": true,
   "toc_window_display": false
  },
  "varInspector": {
   "cols": {
    "lenName": 16,
    "lenType": 16,
    "lenVar": 40
   },
   "kernels_config": {
    "python": {
     "delete_cmd_postfix": "",
     "delete_cmd_prefix": "del ",
     "library": "var_list.py",
     "varRefreshCmd": "print(var_dic_list())"
    },
    "r": {
     "delete_cmd_postfix": ") ",
     "delete_cmd_prefix": "rm(",
     "library": "var_list.r",
     "varRefreshCmd": "cat(var_dic_list()) "
    }
   },
   "types_to_exclude": [
    "module",
    "function",
    "builtin_function_or_method",
    "instance",
    "_Feature"
   ],
   "window_display": false
  }
 },
 "nbformat": 4,
 "nbformat_minor": 2
}
