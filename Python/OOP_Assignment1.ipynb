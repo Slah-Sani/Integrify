{
 "cells": [
  {
   "cell_type": "code",
   "execution_count": 4,
   "metadata": {
    "ExecuteTime": {
     "end_time": "2019-08-23T13:55:48.183953Z",
     "start_time": "2019-08-23T13:55:48.074407Z"
    }
   },
   "outputs": [
    {
     "ename": "NameError",
     "evalue": "name 'o' is not defined",
     "output_type": "error",
     "traceback": [
      "\u001b[0;31m---------------------------------------------------------------------------\u001b[0m",
      "\u001b[0;31mNameError\u001b[0m                                 Traceback (most recent call last)",
      "\u001b[0;32m<ipython-input-4-baf7c50a375a>\u001b[0m in \u001b[0;36m<module>\u001b[0;34m\u001b[0m\n\u001b[1;32m      1\u001b[0m \u001b[0;31m# Task 2\u001b[0m\u001b[0;34m\u001b[0m\u001b[0;34m\u001b[0m\u001b[0;34m\u001b[0m\u001b[0m\n\u001b[0;32m----> 2\u001b[0;31m \u001b[0;32mclass\u001b[0m \u001b[0mVideoApp\u001b[0m\u001b[0;34m(\u001b[0m\u001b[0;34m)\u001b[0m\u001b[0;34m:\u001b[0m\u001b[0;34m\u001b[0m\u001b[0;34m\u001b[0m\u001b[0m\n\u001b[0m\u001b[1;32m      3\u001b[0m     \u001b[0mparticipents_online\u001b[0m \u001b[0;34m=\u001b[0m\u001b[0mo\u001b[0m\u001b[0;34m\u001b[0m\u001b[0;34m\u001b[0m\u001b[0m\n\u001b[1;32m      4\u001b[0m     \u001b[0maction\u001b[0m \u001b[0;34m=\u001b[0m\u001b[0;34m[\u001b[0m\u001b[0;34m\"speaking\"\u001b[0m\u001b[0;34m,\u001b[0m \u001b[0;34m\"silent\"\u001b[0m\u001b[0;34m]\u001b[0m\u001b[0;34m\u001b[0m\u001b[0;34m\u001b[0m\u001b[0m\n\u001b[1;32m      5\u001b[0m     \u001b[0;32mdef\u001b[0m \u001b[0m__init__\u001b[0m\u001b[0;34m(\u001b[0m\u001b[0mself\u001b[0m\u001b[0;34m,\u001b[0m \u001b[0muser_name\u001b[0m\u001b[0;34m,\u001b[0m \u001b[0mcompany_repr\u001b[0m\u001b[0;34m)\u001b[0m\u001b[0;34m:\u001b[0m\u001b[0;34m\u001b[0m\u001b[0;34m\u001b[0m\u001b[0m\n",
      "\u001b[0;32m<ipython-input-4-baf7c50a375a>\u001b[0m in \u001b[0;36mVideoApp\u001b[0;34m()\u001b[0m\n\u001b[1;32m      1\u001b[0m \u001b[0;31m# Task 2\u001b[0m\u001b[0;34m\u001b[0m\u001b[0;34m\u001b[0m\u001b[0;34m\u001b[0m\u001b[0m\n\u001b[1;32m      2\u001b[0m \u001b[0;32mclass\u001b[0m \u001b[0mVideoApp\u001b[0m\u001b[0;34m(\u001b[0m\u001b[0;34m)\u001b[0m\u001b[0;34m:\u001b[0m\u001b[0;34m\u001b[0m\u001b[0;34m\u001b[0m\u001b[0m\n\u001b[0;32m----> 3\u001b[0;31m     \u001b[0mparticipents_online\u001b[0m \u001b[0;34m=\u001b[0m\u001b[0mo\u001b[0m\u001b[0;34m\u001b[0m\u001b[0;34m\u001b[0m\u001b[0m\n\u001b[0m\u001b[1;32m      4\u001b[0m     \u001b[0maction\u001b[0m \u001b[0;34m=\u001b[0m\u001b[0;34m[\u001b[0m\u001b[0;34m\"speaking\"\u001b[0m\u001b[0;34m,\u001b[0m \u001b[0;34m\"silent\"\u001b[0m\u001b[0;34m]\u001b[0m\u001b[0;34m\u001b[0m\u001b[0;34m\u001b[0m\u001b[0m\n\u001b[1;32m      5\u001b[0m     \u001b[0;32mdef\u001b[0m \u001b[0m__init__\u001b[0m\u001b[0;34m(\u001b[0m\u001b[0mself\u001b[0m\u001b[0;34m,\u001b[0m \u001b[0muser_name\u001b[0m\u001b[0;34m,\u001b[0m \u001b[0mcompany_repr\u001b[0m\u001b[0;34m)\u001b[0m\u001b[0;34m:\u001b[0m\u001b[0;34m\u001b[0m\u001b[0;34m\u001b[0m\u001b[0m\n",
      "\u001b[0;31mNameError\u001b[0m: name 'o' is not defined"
     ]
    }
   ],
   "source": [
    "# Task 2\n",
    "class VideoApp():\n",
    "    participents_online =o\n",
    "    action =[\"speaking\", \"silent\"]\n",
    "    def __init__(self, user_name, company_repr):\n",
    "        self.user_name = user_name\n",
    "        self.company_repr= company_repr\n",
    "    def classmethod(self):\n",
    "        print(\"participents are attending the meeting\")\n",
    "    def go_online(self):\n",
    "        self.participents_online += 1\n",
    "    def go_offline(self):\n",
    "        self.participents_online -=1\n",
    "        print(f'participents online are/is {participents_onlinecipents_online}')\n",
    "    def status(action):\n",
    "        if action != \"speaking\" or action != \"silent\" :\n",
    "            print('The user must either be \"speaking\" or \"silent\" ')\n",
    "            print(f'{self.user_name} is action')\n",
    "class Message():\n",
    "    def __init__(self, user_name, message):\n",
    "        self.user_name = user_name\n",
    "        self.message= messgae\n",
    "    \n",
    "    def __status__(self):\n",
    "        print(f'{self.user_name} sent the message: {self.message}')\n",
    "    \n",
    "    # creating a subclass here\n",
    "    \n",
    "class ChatApp(VideoApp, Message):\n",
    "    def __init__(self, user_name):\n",
    "        Message.__status__(self)"
   ]
  },
  {
   "cell_type": "code",
   "execution_count": 5,
   "metadata": {
    "ExecuteTime": {
     "end_time": "2019-08-23T13:56:08.544084Z",
     "start_time": "2019-08-23T13:56:08.534464Z"
    }
   },
   "outputs": [],
   "source": [
    "# Task 3\n",
    "# requirement the class inherit the str class\n",
    "class Compare_strings(str):\n",
    "    def __init__(self, word1=\"Hello\", word2=\"Hiii\"):\n",
    "        self.word1 = word1\n",
    "        self.word2= word2\n",
    "        \n",
    "    def __new__(self):\n",
    "        print(f' The first word is {self.word1} and the second word is {self.word2}')\n",
    "    def __gt__(self):\n",
    "        return len(self.word1) > len(self.word2)\n",
    "    def __lt__(self, other):\n",
    "        return len(self.word1) < len(self.word2)\n",
    "    def __ge__(self, other):\n",
    "        return len(self.word1) >= len(self.word2)\n",
    "    def __le__(self, other):\n",
    "        return len(self.word1) <= len(self.word2)"
   ]
  },
  {
   "cell_type": "code",
   "execution_count": null,
   "metadata": {},
   "outputs": [],
   "source": []
  },
  {
   "cell_type": "code",
   "execution_count": 6,
   "metadata": {
    "ExecuteTime": {
     "end_time": "2019-08-23T13:56:39.881077Z",
     "start_time": "2019-08-23T13:56:39.869453Z"
    }
   },
   "outputs": [
    {
     "name": "stdout",
     "output_type": "stream",
     "text": [
      "person(date_of_birth='09-04-1991', eye_color='green eyes', IQ_score=109)\n"
     ]
    }
   ],
   "source": [
    "import collections\n",
    "from collections import namedtuple\n",
    "\n",
    "# class PersonalJoiner:\n",
    "#     pass\n",
    "    #Created namedtuple called PersonalDetails with a fieldname date_of_birth\n",
    "PersonDetails = namedtuple('PersonDetails','date_of_birth')\n",
    "#print(\"so far so good\")\n",
    "person_1_details = PersonDetails(date_of_birth ='09-04-1991')\n",
    "person_features= namedtuple('person_features',['eye_color' ,  'IQ_score'])\n",
    "person_1_features = person_features('green eyes',109)\n",
    "# print(person_1_details)\n",
    "# print(person_1_features)\n",
    "class PersonalJoiner:\n",
    "    @staticmethod\n",
    "    def join_(*args):\n",
    "        d = {}\n",
    "        for i in args:\n",
    "            d.update(i._asdict())\n",
    "            person=namedtuple('person', d)\n",
    "            Person= person(**d)\n",
    "        return Person\n",
    "\n",
    "person_= PersonalJoiner()\n",
    "print(PersonalJoiner.join_(person_1_details, person_1_features))"
   ]
  },
  {
   "cell_type": "code",
   "execution_count": 7,
   "metadata": {
    "ExecuteTime": {
     "end_time": "2019-08-23T13:56:59.037288Z",
     "start_time": "2019-08-23T13:56:59.024818Z"
    }
   },
   "outputs": [
    {
     "name": "stdout",
     "output_type": "stream",
     "text": [
      "DIITO\n",
      "DIITO\n"
     ]
    }
   ],
   "source": [
    "#Task 5 Decorator1\n",
    "'''Write a function called double. The function should decorate a function and return two copies of it's return value in a list.\n",
    "'''\n",
    "def double(fun):\n",
    "    def inner():\n",
    "        #print(\"\\n\")\n",
    "        fun()\n",
    "        fun()\n",
    "        #print(\"\\n\")\n",
    "    return inner\n",
    "@double \n",
    "def fun():\n",
    "    print(\"DIITO\")\n",
    "    \n",
    "fun()"
   ]
  },
  {
   "cell_type": "code",
   "execution_count": null,
   "metadata": {},
   "outputs": [],
   "source": []
  },
  {
   "cell_type": "code",
   "execution_count": null,
   "metadata": {
    "ExecuteTime": {
     "start_time": "2019-08-23T13:57:17.289Z"
    }
   },
   "outputs": [],
   "source": [
    "# Task 6 \n",
    "'''\n",
    "Write a function call verify. \n",
    "The function that is passed to this function should only be\n",
    "called if a keyword argument-value pair role:admin exists,\n",
    "otherwise the function should return \"invalid\"\n",
    "'''\n",
    "def verify(fun):\n",
    "    x = input(\"enter an arugument pair value to continue = \")\n",
    "    def inner():\n",
    "        if x == \"role:admin\":\n",
    "            fun()\n",
    "        else:\n",
    "            print(\"invalid\")    \n",
    "    return inner\n",
    "@verify\n",
    "def fun():\n",
    "    print(\"All good continue\")\n",
    "fun()"
   ]
  },
  {
   "cell_type": "code",
   "execution_count": null,
   "metadata": {},
   "outputs": [],
   "source": [
    "m= {\"x\":\"a\", \"y\":\"b\", \"z\":\"p\"}\n",
    "def method(x={},y={}):\n",
    "    return x,y\n",
    "#method(*m)    #gives keys\n",
    "#method(**m)    # gives values\n",
    "method(m)"
   ]
  },
  {
   "cell_type": "code",
   "execution_count": null,
   "metadata": {},
   "outputs": [],
   "source": []
  },
  {
   "cell_type": "code",
   "execution_count": null,
   "metadata": {
    "ExecuteTime": {
     "start_time": "2019-08-23T13:57:55.321Z"
    }
   },
   "outputs": [],
   "source": [
    "kw = {'a':1}\n",
    "def ttry(a, b=1, *arg, **kw):\n",
    "# def ttry(a= 3, b=1, kw):\n",
    "    if 'a' in kw:\n",
    "        a= kw['a']\n",
    "    return a, b\n",
    "ttry ([1,2], kw)\n",
    "# ttry (b=kw, *['a'],**{'a':1})\n",
    "# ttry (kw)"
   ]
  }
 ],
 "metadata": {
  "kernelspec": {
   "display_name": "Python 3",
   "language": "python",
   "name": "python3"
  },
  "language_info": {
   "codemirror_mode": {
    "name": "ipython",
    "version": 3
   },
   "file_extension": ".py",
   "mimetype": "text/x-python",
   "name": "python",
   "nbconvert_exporter": "python",
   "pygments_lexer": "ipython3",
   "version": "3.7.3"
  },
  "toc": {
   "base_numbering": 1,
   "nav_menu": {},
   "number_sections": true,
   "sideBar": true,
   "skip_h1_title": false,
   "title_cell": "Table of Contents",
   "title_sidebar": "Contents",
   "toc_cell": false,
   "toc_position": {},
   "toc_section_display": true,
   "toc_window_display": false
  },
  "varInspector": {
   "cols": {
    "lenName": 16,
    "lenType": 16,
    "lenVar": 40
   },
   "kernels_config": {
    "python": {
     "delete_cmd_postfix": "",
     "delete_cmd_prefix": "del ",
     "library": "var_list.py",
     "varRefreshCmd": "print(var_dic_list())"
    },
    "r": {
     "delete_cmd_postfix": ") ",
     "delete_cmd_prefix": "rm(",
     "library": "var_list.r",
     "varRefreshCmd": "cat(var_dic_list()) "
    }
   },
   "types_to_exclude": [
    "module",
    "function",
    "builtin_function_or_method",
    "instance",
    "_Feature"
   ],
   "window_display": false
  }
 },
 "nbformat": 4,
 "nbformat_minor": 2
}
