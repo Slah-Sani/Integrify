{
 "cells": [
  {
   "cell_type": "code",
   "execution_count": 4,
   "metadata": {
    "ExecuteTime": {
     "end_time": "2019-08-23T13:42:23.245553Z",
     "start_time": "2019-08-23T13:42:04.061938Z"
    }
   },
   "outputs": [
    {
     "name": "stdout",
     "output_type": "stream",
     "text": [
      "Would you like to run the program? Y/N  Y\n",
      "y\n",
      "Enter a whole number between 0 and 10: 5\n",
      "The current value of n is: 5\n",
      "\n",
      "The current value of n is: 6\n",
      "\n",
      "The current value of n is: 7\n",
      "\n",
      "Course Passed.\n",
      "Would you like to run the program? Y/N  n\n",
      "n\n"
     ]
    }
   ],
   "source": [
    "def function(n):\n",
    "\n",
    "    if val_input(n):\n",
    "\n",
    "        if n > 7:\n",
    "            print(\"Course Passed.\")\n",
    "\n",
    "        elif n < 5:\n",
    "            print('The current value of n is: {}\\n'.format(n))\n",
    "            n += 1\n",
    "            return function(n)\n",
    "\n",
    "        else:\n",
    "            print('The current value of n is: {}\\n'.format(n))\n",
    "            n += 1\n",
    "            return function(n)\n",
    "    else:\n",
    "        return function(bad_num(n))\n",
    "\n",
    "\n",
    "def val_input(n):\n",
    "    return isinstance(n, int) and n in range(11)\n",
    "\n",
    "\n",
    "def bad_num(n):\n",
    "\n",
    "    while n not in range(11) or not isinstance(n, int):\n",
    "\n",
    "        n = int(input(\"Please only enter whole numbers between 0 and 10: \"))\n",
    "\n",
    "    return n\n",
    "\n",
    "\n",
    "def run_program():\n",
    "\n",
    "    call_func = input(\"Would you like to run the program? Y/N  \").lower()\n",
    "    print(call_func)\n",
    "\n",
    "    while not (call_func[0] == 'y' or call_func[0] == 'n'):\n",
    "        call_func = input(\"Please select whether you would like to continue. Enter \\\"Y\\\" or \\\"N\\\"  \").lower()\n",
    "\n",
    "    if call_func[0] == 'y':\n",
    "\n",
    "        n = int(input(\"Enter a whole number between 0 and 10: \"))\n",
    "        function(n)\n",
    "        run_program()\n",
    "\n",
    "    else:\n",
    "        return 0\n",
    "\n",
    "\n",
    "run_program()"
   ]
  },
  {
   "cell_type": "code",
   "execution_count": 6,
   "metadata": {
    "ExecuteTime": {
     "end_time": "2019-08-23T13:43:01.523212Z",
     "start_time": "2019-08-23T13:42:58.047360Z"
    }
   },
   "outputs": [
    {
     "name": "stdout",
     "output_type": "stream",
     "text": [
      "Enter any number to print the factorial\n",
      "5\n",
      "Factorial of number is 120\n"
     ]
    }
   ],
   "source": [
    "\n",
    "## Factorial of a number####\n",
    "print(\"Enter any number to print the factorial\")\n",
    "num = int(input())\n",
    "\n",
    "def fact(num):\n",
    "        if(num==0):\n",
    "            return 1\n",
    "        else:\n",
    "            return num* fact(num-1)\n",
    "         \n",
    "print(\"Factorial of number is \" + str(fact(num)))"
   ]
  },
  {
   "cell_type": "code",
   "execution_count": 7,
   "metadata": {
    "ExecuteTime": {
     "end_time": "2019-08-23T13:43:17.958357Z",
     "start_time": "2019-08-23T13:43:17.951577Z"
    }
   },
   "outputs": [
    {
     "name": "stdout",
     "output_type": "stream",
     "text": [
      "4\n"
     ]
    }
   ],
   "source": [
    "#### Absolute of a number ###\n",
    "def count_uniq_abs_vals(a):\n",
    "    a = set(map(lambda x: abs(x), a))\n",
    "    return len(a)\n",
    "\n",
    "\n",
    "a = [1, 2, 3, -1, 4, 3]\n",
    "print(count_uniq_abs_vals(a))"
   ]
  },
  {
   "cell_type": "code",
   "execution_count": null,
   "metadata": {},
   "outputs": [],
   "source": [
    "a = [10, 50, 5, 1]\n",
    "b = [10, 2, 5, 1, 8, 20]\n",
    "c = [12, 6]\n",
    "d = [15, 30, -1, 'v', 5]\n",
    "e = [4, 3, 1, 2, 6]\n",
    "\n",
    "def tri_count(l_nums):\n",
    "   if len(l_nums) < 3:\n",
    "       return 0\n",
    "   for i in range(len(l_nums)):\n",
    "       if not isinstance(l_nums[i], int):\n",
    "           print(i)\n",
    "           return 0\n",
    "\n",
    "   l_nums.sort()\n",
    "\n",
    "   p = 0\n",
    "   while p in range(len(l_nums)-2):\n",
    "       q= p+1\n",
    "       r= q+1\n",
    "\n",
    "       if check_triple(l_nums[p], l_nums[q], l_nums[r]):\n",
    "           return 1\n",
    "       p+=2\n",
    "   return 0\n",
    "\n",
    "\n",
    "def check_triple(p, q, r):\n",
    "\n",
    "   return (((p+q) > r) and ((q+r) > p) and ((p+r) > q))\n",
    "\n",
    "#print(tri_count(a))\n",
    "#print(tri_count(b))\n",
    "#print(tri_count(c))\n",
    "#print(tri_count(d))\n",
    "\n",
    "def find_num(a):\n",
    "   input_sum = sum(a)\n",
    "   n = len(a) + 1\n",
    "\n",
    "   return (n*(n+1)/2 - input_sum)\n",
    "\n",
    "\n",
    "#print(find_num(e))\n",
    "\n",
    "def rotate_arr(a, k):\n",
    "\n",
    "   for i in range(k):\n",
    "       a = [a[-1]] + a[:-1]\n",
    "   return a\n",
    "print(rotate_arr(a, 2))"
   ]
  },
  {
   "cell_type": "code",
   "execution_count": null,
   "metadata": {},
   "outputs": [],
   "source": [
    "\n",
    "print(tri_count(a))\n",
    "print(tri_count(b))\n",
    "print(tri_count(c))\n",
    "print(tri_count(d))"
   ]
  },
  {
   "cell_type": "code",
   "execution_count": 8,
   "metadata": {
    "ExecuteTime": {
     "end_time": "2019-08-23T13:44:52.404455Z",
     "start_time": "2019-08-23T13:44:28.921918Z"
    }
   },
   "outputs": [
    {
     "name": "stdout",
     "output_type": "stream",
     "text": [
      "Enter number of elements : 6\n",
      "2\n",
      "5\n",
      "5\n",
      "8\n",
      "8\n",
      "9\n",
      "[2, 5, 5, 8, 8, 9]\n",
      "Missing number is -9.0\n"
     ]
    }
   ],
   "source": [
    "\n",
    "### Missing number in an array\n",
    "def getMissingNo(A): \n",
    "    n = len(A) \n",
    "    total = (n+1)*(n+2)/2\n",
    "    sum_of_A = sum(A) \n",
    "    return total - sum_of_A \n",
    "\n",
    "#Driver code for program\n",
    "lst = [] \n",
    "  \n",
    "# number of elemetns as input \n",
    "n = int(input(\"Enter number of elements : \")) \n",
    "  \n",
    "# iterating till the range \n",
    "for i in range(0, n): \n",
    "    ele = int(input()) \n",
    "  \n",
    "    lst.append(ele) # adding the element \n",
    "      \n",
    "print(lst)\n",
    "\n",
    "#A = [1, 2, 4, 5, 6] \n",
    "#print(type(A))\n",
    "miss = getMissingNo(lst) \n",
    "print(\"Missing number is \" + str(miss))"
   ]
  },
  {
   "cell_type": "markdown",
   "metadata": {},
   "source": [
    "## OOP task"
   ]
  },
  {
   "cell_type": "code",
   "execution_count": 10,
   "metadata": {
    "ExecuteTime": {
     "end_time": "2019-08-23T13:47:23.549799Z",
     "start_time": "2019-08-23T13:47:23.544287Z"
    }
   },
   "outputs": [],
   "source": [
    "class Circle():\n",
    "    # Class object attribute\n",
    "    pi = 3.14\n",
    "    \n",
    "    def __init__(self,radius=1):\n",
    "        \n",
    "        self.radius = radius\n",
    "    \n",
    "    #Method\n",
    "    def get_circumference(self):\n",
    "        # Circumference of a circle is 2.pi.radius\n",
    "        return self.radius * self.pi * 2\n",
    "        "
   ]
  },
  {
   "cell_type": "code",
   "execution_count": 11,
   "metadata": {
    "ExecuteTime": {
     "end_time": "2019-08-23T13:47:25.503888Z",
     "start_time": "2019-08-23T13:47:25.499692Z"
    }
   },
   "outputs": [],
   "source": [
    "# Now create a instance of a circle\n",
    "\n",
    "my_circle = Circle(30)"
   ]
  },
  {
   "cell_type": "code",
   "execution_count": 12,
   "metadata": {
    "ExecuteTime": {
     "end_time": "2019-08-23T13:47:41.908443Z",
     "start_time": "2019-08-23T13:47:41.883807Z"
    }
   },
   "outputs": [
    {
     "data": {
      "text/plain": [
       "3.14"
      ]
     },
     "execution_count": 12,
     "metadata": {},
     "output_type": "execute_result"
    }
   ],
   "source": [
    "my_circle.pi"
   ]
  },
  {
   "cell_type": "code",
   "execution_count": 13,
   "metadata": {
    "ExecuteTime": {
     "end_time": "2019-08-23T13:47:54.556300Z",
     "start_time": "2019-08-23T13:47:54.551095Z"
    }
   },
   "outputs": [
    {
     "data": {
      "text/plain": [
       "30"
      ]
     },
     "execution_count": 13,
     "metadata": {},
     "output_type": "execute_result"
    }
   ],
   "source": [
    "my_circle.radius"
   ]
  },
  {
   "cell_type": "code",
   "execution_count": 15,
   "metadata": {
    "ExecuteTime": {
     "end_time": "2019-08-23T13:48:06.388925Z",
     "start_time": "2019-08-23T13:48:06.381420Z"
    }
   },
   "outputs": [
    {
     "data": {
      "text/plain": [
       "188.4"
      ]
     },
     "execution_count": 15,
     "metadata": {},
     "output_type": "execute_result"
    }
   ],
   "source": [
    "my_circle.get_circumference()"
   ]
  },
  {
   "cell_type": "markdown",
   "metadata": {},
   "source": [
    "## Inheritance"
   ]
  },
  {
   "cell_type": "code",
   "execution_count": 18,
   "metadata": {
    "ExecuteTime": {
     "end_time": "2019-08-23T13:49:17.376352Z",
     "start_time": "2019-08-23T13:49:17.369088Z"
    }
   },
   "outputs": [],
   "source": [
    "class Animal():\n",
    "    \n",
    "    def __init__(self):\n",
    "        \n",
    "        print('Animal created')\n",
    "        \n",
    "    def who_am_i(self):\n",
    "        print('I am an animal')\n",
    "        \n",
    "    def eat(self):\n",
    "        print('I am eating')"
   ]
  },
  {
   "cell_type": "code",
   "execution_count": 19,
   "metadata": {
    "ExecuteTime": {
     "end_time": "2019-08-23T13:49:18.037560Z",
     "start_time": "2019-08-23T13:49:18.031345Z"
    }
   },
   "outputs": [],
   "source": [
    "### Now if I am going to create another class 'Dog()' ,\n",
    "### But I realize that dog is also an animal and \n",
    "### I can use some features of my animal class\n",
    "\n",
    "class Dog(Animal):\n",
    "    \n",
    "    def __init__(self):\n",
    "        Animal.__init__(self)\n",
    "        print('Dog created')\n",
    "        \n",
    "    ## We can also over write the old class methods \n",
    "    ## Or can add new methods\n",
    "    def bark(self):\n",
    "        print('Whooo')"
   ]
  },
  {
   "cell_type": "code",
   "execution_count": 20,
   "metadata": {
    "ExecuteTime": {
     "end_time": "2019-08-23T13:49:20.944323Z",
     "start_time": "2019-08-23T13:49:20.938531Z"
    }
   },
   "outputs": [
    {
     "name": "stdout",
     "output_type": "stream",
     "text": [
      "Animal created\n",
      "Dog created\n"
     ]
    }
   ],
   "source": [
    "my_dog = Dog()"
   ]
  },
  {
   "cell_type": "code",
   "execution_count": 21,
   "metadata": {
    "ExecuteTime": {
     "end_time": "2019-08-23T13:49:35.437114Z",
     "start_time": "2019-08-23T13:49:35.432806Z"
    }
   },
   "outputs": [
    {
     "name": "stdout",
     "output_type": "stream",
     "text": [
      "Whooo\n"
     ]
    }
   ],
   "source": [
    "my_dog.bark()"
   ]
  },
  {
   "cell_type": "code",
   "execution_count": null,
   "metadata": {},
   "outputs": [],
   "source": []
  },
  {
   "cell_type": "code",
   "execution_count": null,
   "metadata": {},
   "outputs": [],
   "source": []
  }
 ],
 "metadata": {
  "kernelspec": {
   "display_name": "Python 3",
   "language": "python",
   "name": "python3"
  },
  "language_info": {
   "codemirror_mode": {
    "name": "ipython",
    "version": 3
   },
   "file_extension": ".py",
   "mimetype": "text/x-python",
   "name": "python",
   "nbconvert_exporter": "python",
   "pygments_lexer": "ipython3",
   "version": "3.7.3"
  },
  "toc": {
   "base_numbering": 1,
   "nav_menu": {},
   "number_sections": true,
   "sideBar": true,
   "skip_h1_title": false,
   "title_cell": "Table of Contents",
   "title_sidebar": "Contents",
   "toc_cell": false,
   "toc_position": {},
   "toc_section_display": true,
   "toc_window_display": false
  },
  "varInspector": {
   "cols": {
    "lenName": 16,
    "lenType": 16,
    "lenVar": 40
   },
   "kernels_config": {
    "python": {
     "delete_cmd_postfix": "",
     "delete_cmd_prefix": "del ",
     "library": "var_list.py",
     "varRefreshCmd": "print(var_dic_list())"
    },
    "r": {
     "delete_cmd_postfix": ") ",
     "delete_cmd_prefix": "rm(",
     "library": "var_list.r",
     "varRefreshCmd": "cat(var_dic_list()) "
    }
   },
   "types_to_exclude": [
    "module",
    "function",
    "builtin_function_or_method",
    "instance",
    "_Feature"
   ],
   "window_display": false
  }
 },
 "nbformat": 4,
 "nbformat_minor": 2
}
